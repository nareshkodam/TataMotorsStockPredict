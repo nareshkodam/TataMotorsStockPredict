{
 "cells": [
  {
   "cell_type": "markdown",
   "id": "503de23f",
   "metadata": {},
   "source": [
    "### Importing Libraries\n",
    "Python libraries make it very easy for us to handle the data and perform typical and complex tasks with a single line of code.\n",
    "\n",
    "Pandas – This library helps to load the data frame in a 2D array format and has multiple functions to perform analysis tasks in one go.\n",
    "\n",
    "Numpy – Numpy arrays are very fast and can perform large computations in a very short time.\n",
    "\n",
    "Matplotlib/Seaborn – This library is used to draw visualizations.\n",
    "\n",
    "Sklearn – This module contains multiple libraries having pre-implemented functions to perform tasks from data preprocessing to model development and evaluation.\n",
    "\n",
    "XGBoost – This contains the eXtreme Gradient Boosting machine learning algorithm which is one of the algorithms which helps us to achieve high accuracy on predictions."
   ]
  },
  {
   "cell_type": "code",
   "execution_count": 1,
   "id": "7adaa19a",
   "metadata": {},
   "outputs": [],
   "source": [
    "import numpy as np\n",
    "import pandas as pd\n",
    "import matplotlib.pyplot as plt\n",
    "import seaborn as sb\n",
    "\n",
    "from sklearn.model_selection import train_test_split\n",
    "from sklearn.preprocessing import StandardScaler\n",
    "from sklearn.linear_model import LogisticRegression\n",
    "from sklearn.svm import SVC\n",
    "from xgboost import XGBClassifier\n",
    "from sklearn import metrics\n",
    "\n",
    "import warnings\n",
    "warnings.filterwarnings('ignore')"
   ]
  },
  {
   "cell_type": "markdown",
   "id": "1e3ce358",
   "metadata": {},
   "source": [
    "### Importing Dataset\n",
    "\n",
    "The dataset we will use here to perform the analysis and build a predictive model is Tesla Stock Price data. We will use OHLC(‘Open’, ‘High’, ‘Low’, ‘Close’) data from 1st January 2010 to 31st December 2017 which is for 8 years for the Tesla stocks.\n",
    "\n",
    "You can download the CSV file from:"
   ]
  },
  {
   "cell_type": "code",
   "execution_count": 2,
   "id": "1fd0e9da",
   "metadata": {},
   "outputs": [],
   "source": [
    "df = pd.read_excel('TataMotorsHistoricalDataSet.xlsx')"
   ]
  },
  {
   "cell_type": "code",
   "execution_count": 4,
   "id": "4b04e988",
   "metadata": {},
   "outputs": [
    {
     "data": {
      "text/html": [
       "<div>\n",
       "<style scoped>\n",
       "    .dataframe tbody tr th:only-of-type {\n",
       "        vertical-align: middle;\n",
       "    }\n",
       "\n",
       "    .dataframe tbody tr th {\n",
       "        vertical-align: top;\n",
       "    }\n",
       "\n",
       "    .dataframe thead th {\n",
       "        text-align: right;\n",
       "    }\n",
       "</style>\n",
       "<table border=\"1\" class=\"dataframe\">\n",
       "  <thead>\n",
       "    <tr style=\"text-align: right;\">\n",
       "      <th></th>\n",
       "      <th>Date</th>\n",
       "      <th>Price</th>\n",
       "      <th>Open</th>\n",
       "      <th>High</th>\n",
       "      <th>Low</th>\n",
       "      <th>Volume</th>\n",
       "      <th>Change(%)</th>\n",
       "    </tr>\n",
       "  </thead>\n",
       "  <tbody>\n",
       "    <tr>\n",
       "      <th>0</th>\n",
       "      <td>2024-01-03</td>\n",
       "      <td>781.45</td>\n",
       "      <td>786.05</td>\n",
       "      <td>790.00</td>\n",
       "      <td>776.25</td>\n",
       "      <td>8559060</td>\n",
       "      <td>-0.0038</td>\n",
       "    </tr>\n",
       "    <tr>\n",
       "      <th>1</th>\n",
       "      <td>2024-01-02</td>\n",
       "      <td>784.40</td>\n",
       "      <td>800.50</td>\n",
       "      <td>804.00</td>\n",
       "      <td>779.00</td>\n",
       "      <td>13791090</td>\n",
       "      <td>-0.0078</td>\n",
       "    </tr>\n",
       "    <tr>\n",
       "      <th>2</th>\n",
       "      <td>2024-01-01</td>\n",
       "      <td>790.60</td>\n",
       "      <td>785.00</td>\n",
       "      <td>798.70</td>\n",
       "      <td>781.05</td>\n",
       "      <td>12570717</td>\n",
       "      <td>0.0137</td>\n",
       "    </tr>\n",
       "    <tr>\n",
       "      <th>3</th>\n",
       "      <td>2023-12-29</td>\n",
       "      <td>779.95</td>\n",
       "      <td>755.00</td>\n",
       "      <td>802.90</td>\n",
       "      <td>754.00</td>\n",
       "      <td>41170191</td>\n",
       "      <td>0.0346</td>\n",
       "    </tr>\n",
       "    <tr>\n",
       "      <th>4</th>\n",
       "      <td>2023-12-28</td>\n",
       "      <td>753.90</td>\n",
       "      <td>742.65</td>\n",
       "      <td>757.95</td>\n",
       "      <td>739.05</td>\n",
       "      <td>14906199</td>\n",
       "      <td>0.0175</td>\n",
       "    </tr>\n",
       "  </tbody>\n",
       "</table>\n",
       "</div>"
      ],
      "text/plain": [
       "        Date   Price    Open    High     Low    Volume  Change(%)\n",
       "0 2024-01-03  781.45  786.05  790.00  776.25   8559060    -0.0038\n",
       "1 2024-01-02  784.40  800.50  804.00  779.00  13791090    -0.0078\n",
       "2 2024-01-01  790.60  785.00  798.70  781.05  12570717     0.0137\n",
       "3 2023-12-29  779.95  755.00  802.90  754.00  41170191     0.0346\n",
       "4 2023-12-28  753.90  742.65  757.95  739.05  14906199     0.0175"
      ]
     },
     "execution_count": 4,
     "metadata": {},
     "output_type": "execute_result"
    }
   ],
   "source": [
    "df.head()"
   ]
  },
  {
   "cell_type": "code",
   "execution_count": 14,
   "id": "2e8d68a7",
   "metadata": {},
   "outputs": [
    {
     "data": {
      "text/html": [
       "<div>\n",
       "<style scoped>\n",
       "    .dataframe tbody tr th:only-of-type {\n",
       "        vertical-align: middle;\n",
       "    }\n",
       "\n",
       "    .dataframe tbody tr th {\n",
       "        vertical-align: top;\n",
       "    }\n",
       "\n",
       "    .dataframe thead th {\n",
       "        text-align: right;\n",
       "    }\n",
       "</style>\n",
       "<table border=\"1\" class=\"dataframe\">\n",
       "  <thead>\n",
       "    <tr style=\"text-align: right;\">\n",
       "      <th></th>\n",
       "      <th>Date</th>\n",
       "      <th>Close</th>\n",
       "      <th>Open</th>\n",
       "      <th>High</th>\n",
       "      <th>Low</th>\n",
       "      <th>Volume</th>\n",
       "      <th>Change(%)</th>\n",
       "    </tr>\n",
       "  </thead>\n",
       "  <tbody>\n",
       "    <tr>\n",
       "      <th>0</th>\n",
       "      <td>2024-01-03</td>\n",
       "      <td>781.45</td>\n",
       "      <td>786.05</td>\n",
       "      <td>790.00</td>\n",
       "      <td>776.25</td>\n",
       "      <td>8559060</td>\n",
       "      <td>-0.0038</td>\n",
       "    </tr>\n",
       "    <tr>\n",
       "      <th>1</th>\n",
       "      <td>2024-01-02</td>\n",
       "      <td>784.40</td>\n",
       "      <td>800.50</td>\n",
       "      <td>804.00</td>\n",
       "      <td>779.00</td>\n",
       "      <td>13791090</td>\n",
       "      <td>-0.0078</td>\n",
       "    </tr>\n",
       "    <tr>\n",
       "      <th>2</th>\n",
       "      <td>2024-01-01</td>\n",
       "      <td>790.60</td>\n",
       "      <td>785.00</td>\n",
       "      <td>798.70</td>\n",
       "      <td>781.05</td>\n",
       "      <td>12570717</td>\n",
       "      <td>0.0137</td>\n",
       "    </tr>\n",
       "    <tr>\n",
       "      <th>3</th>\n",
       "      <td>2023-12-29</td>\n",
       "      <td>779.95</td>\n",
       "      <td>755.00</td>\n",
       "      <td>802.90</td>\n",
       "      <td>754.00</td>\n",
       "      <td>41170191</td>\n",
       "      <td>0.0346</td>\n",
       "    </tr>\n",
       "    <tr>\n",
       "      <th>4</th>\n",
       "      <td>2023-12-28</td>\n",
       "      <td>753.90</td>\n",
       "      <td>742.65</td>\n",
       "      <td>757.95</td>\n",
       "      <td>739.05</td>\n",
       "      <td>14906199</td>\n",
       "      <td>0.0175</td>\n",
       "    </tr>\n",
       "  </tbody>\n",
       "</table>\n",
       "</div>"
      ],
      "text/plain": [
       "        Date   Close    Open    High     Low    Volume  Change(%)\n",
       "0 2024-01-03  781.45  786.05  790.00  776.25   8559060    -0.0038\n",
       "1 2024-01-02  784.40  800.50  804.00  779.00  13791090    -0.0078\n",
       "2 2024-01-01  790.60  785.00  798.70  781.05  12570717     0.0137\n",
       "3 2023-12-29  779.95  755.00  802.90  754.00  41170191     0.0346\n",
       "4 2023-12-28  753.90  742.65  757.95  739.05  14906199     0.0175"
      ]
     },
     "execution_count": 14,
     "metadata": {},
     "output_type": "execute_result"
    }
   ],
   "source": [
    "dict = {'Closed': 'Close'}\n",
    "df.rename(columns=dict,\n",
    "          inplace=True)\n",
    "df.head()"
   ]
  },
  {
   "cell_type": "code",
   "execution_count": 15,
   "id": "25a7bd72",
   "metadata": {},
   "outputs": [
    {
     "data": {
      "text/plain": [
       "(4338, 7)"
      ]
     },
     "execution_count": 15,
     "metadata": {},
     "output_type": "execute_result"
    }
   ],
   "source": [
    "df.shape"
   ]
  },
  {
   "cell_type": "code",
   "execution_count": 16,
   "id": "3f352a28",
   "metadata": {},
   "outputs": [
    {
     "data": {
      "text/html": [
       "<div>\n",
       "<style scoped>\n",
       "    .dataframe tbody tr th:only-of-type {\n",
       "        vertical-align: middle;\n",
       "    }\n",
       "\n",
       "    .dataframe tbody tr th {\n",
       "        vertical-align: top;\n",
       "    }\n",
       "\n",
       "    .dataframe thead th {\n",
       "        text-align: right;\n",
       "    }\n",
       "</style>\n",
       "<table border=\"1\" class=\"dataframe\">\n",
       "  <thead>\n",
       "    <tr style=\"text-align: right;\">\n",
       "      <th></th>\n",
       "      <th>Close</th>\n",
       "      <th>Open</th>\n",
       "      <th>High</th>\n",
       "      <th>Low</th>\n",
       "      <th>Volume</th>\n",
       "      <th>Change(%)</th>\n",
       "    </tr>\n",
       "  </thead>\n",
       "  <tbody>\n",
       "    <tr>\n",
       "      <th>count</th>\n",
       "      <td>4338.000000</td>\n",
       "      <td>4338.000000</td>\n",
       "      <td>4338.000000</td>\n",
       "      <td>4338.000000</td>\n",
       "      <td>4.338000e+03</td>\n",
       "      <td>4338.000000</td>\n",
       "    </tr>\n",
       "    <tr>\n",
       "      <th>mean</th>\n",
       "      <td>288.954442</td>\n",
       "      <td>289.403628</td>\n",
       "      <td>293.570763</td>\n",
       "      <td>284.695841</td>\n",
       "      <td>1.508650e+07</td>\n",
       "      <td>0.000761</td>\n",
       "    </tr>\n",
       "    <tr>\n",
       "      <th>std</th>\n",
       "      <td>155.826195</td>\n",
       "      <td>156.045755</td>\n",
       "      <td>157.416225</td>\n",
       "      <td>154.393826</td>\n",
       "      <td>2.463119e+07</td>\n",
       "      <td>0.027698</td>\n",
       "    </tr>\n",
       "    <tr>\n",
       "      <th>min</th>\n",
       "      <td>24.970000</td>\n",
       "      <td>24.950000</td>\n",
       "      <td>26.040000</td>\n",
       "      <td>24.700000</td>\n",
       "      <td>1.235100e+04</td>\n",
       "      <td>-0.175800</td>\n",
       "    </tr>\n",
       "    <tr>\n",
       "      <th>25%</th>\n",
       "      <td>154.660000</td>\n",
       "      <td>155.145000</td>\n",
       "      <td>157.527500</td>\n",
       "      <td>152.155000</td>\n",
       "      <td>3.502996e+06</td>\n",
       "      <td>-0.013600</td>\n",
       "    </tr>\n",
       "    <tr>\n",
       "      <th>50%</th>\n",
       "      <td>268.760000</td>\n",
       "      <td>269.905000</td>\n",
       "      <td>273.435000</td>\n",
       "      <td>264.860000</td>\n",
       "      <td>7.333981e+06</td>\n",
       "      <td>0.000200</td>\n",
       "    </tr>\n",
       "    <tr>\n",
       "      <th>75%</th>\n",
       "      <td>419.550000</td>\n",
       "      <td>420.547500</td>\n",
       "      <td>424.987500</td>\n",
       "      <td>414.800000</td>\n",
       "      <td>1.471936e+07</td>\n",
       "      <td>0.014400</td>\n",
       "    </tr>\n",
       "    <tr>\n",
       "      <th>max</th>\n",
       "      <td>790.600000</td>\n",
       "      <td>800.500000</td>\n",
       "      <td>804.000000</td>\n",
       "      <td>781.050000</td>\n",
       "      <td>3.905778e+08</td>\n",
       "      <td>0.204500</td>\n",
       "    </tr>\n",
       "  </tbody>\n",
       "</table>\n",
       "</div>"
      ],
      "text/plain": [
       "             Close         Open         High          Low        Volume  \\\n",
       "count  4338.000000  4338.000000  4338.000000  4338.000000  4.338000e+03   \n",
       "mean    288.954442   289.403628   293.570763   284.695841  1.508650e+07   \n",
       "std     155.826195   156.045755   157.416225   154.393826  2.463119e+07   \n",
       "min      24.970000    24.950000    26.040000    24.700000  1.235100e+04   \n",
       "25%     154.660000   155.145000   157.527500   152.155000  3.502996e+06   \n",
       "50%     268.760000   269.905000   273.435000   264.860000  7.333981e+06   \n",
       "75%     419.550000   420.547500   424.987500   414.800000  1.471936e+07   \n",
       "max     790.600000   800.500000   804.000000   781.050000  3.905778e+08   \n",
       "\n",
       "         Change(%)  \n",
       "count  4338.000000  \n",
       "mean      0.000761  \n",
       "std       0.027698  \n",
       "min      -0.175800  \n",
       "25%      -0.013600  \n",
       "50%       0.000200  \n",
       "75%       0.014400  \n",
       "max       0.204500  "
      ]
     },
     "execution_count": 16,
     "metadata": {},
     "output_type": "execute_result"
    }
   ],
   "source": [
    "df.describe()"
   ]
  },
  {
   "cell_type": "code",
   "execution_count": 17,
   "id": "6341e4fc",
   "metadata": {},
   "outputs": [
    {
     "name": "stdout",
     "output_type": "stream",
     "text": [
      "<class 'pandas.core.frame.DataFrame'>\n",
      "RangeIndex: 4338 entries, 0 to 4337\n",
      "Data columns (total 7 columns):\n",
      " #   Column     Non-Null Count  Dtype         \n",
      "---  ------     --------------  -----         \n",
      " 0   Date       4338 non-null   datetime64[ns]\n",
      " 1   Close      4338 non-null   float64       \n",
      " 2   Open       4338 non-null   float64       \n",
      " 3   High       4338 non-null   float64       \n",
      " 4   Low        4338 non-null   float64       \n",
      " 5   Volume     4338 non-null   int64         \n",
      " 6   Change(%)  4338 non-null   float64       \n",
      "dtypes: datetime64[ns](1), float64(5), int64(1)\n",
      "memory usage: 237.4 KB\n"
     ]
    }
   ],
   "source": [
    "df.info()"
   ]
  },
  {
   "cell_type": "markdown",
   "id": "84c4a2b2",
   "metadata": {},
   "source": [
    "### Exploratory Data Analysis\n",
    "EDA is an approach to analyzing the data using visual techniques. It is used to discover trends, and patterns, or to check assumptions with the help of statistical summaries and graphical representations. \n",
    "\n",
    "While performing the EDA of the Tesla Stock Price data we will analyze how prices of the stock have moved over the period of time and how the end of the quarters affects the prices of the stock."
   ]
  },
  {
   "cell_type": "code",
   "execution_count": 18,
   "id": "ccabd55c",
   "metadata": {},
   "outputs": [
    {
     "data": {
      "image/png": "[encoded data removed]",
      "text/plain": [
       "<Figure size 1500x500 with 1 Axes>"
      ]
     },
     "metadata": {},
     "output_type": "display_data"
    }
   ],
   "source": [
    "plt.figure(figsize=(15,5))\n",
    "plt.plot(df['Close'])\n",
    "plt.title('TataMotors Close price.', fontsize=15)\n",
    "plt.ylabel('Price in Rupees.')\n",
    "plt.show()"
   ]
  },
  {
   "cell_type": "code",
   "execution_count": null,
   "id": "2c0de782",
   "metadata": {},
   "outputs": [],
   "source": []
  }
 ],
 "metadata": {
  "kernelspec": {
   "display_name": "Python 3 (ipykernel)",
   "language": "python",
   "name": "python3"
  },
  "language_info": {
   "codemirror_mode": {
    "name": "ipython",
    "version": 3
   },
   "file_extension": ".py",
   "mimetype": "text/x-python",
   "name": "python",
   "nbconvert_exporter": "python",
   "pygments_lexer": "ipython3",
   "version": "3.9.13"
  }
 },
 "nbformat": 4,
 "nbformat_minor": 5
}
